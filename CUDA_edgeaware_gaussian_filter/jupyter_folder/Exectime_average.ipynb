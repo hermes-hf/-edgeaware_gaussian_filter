{
 "cells": [
  {
   "cell_type": "code",
   "execution_count": 1,
   "metadata": {},
   "outputs": [],
   "source": [
    "import sys\n",
    "import os\n",
    "import subprocess\n",
    "import statistics\n",
    "from PIL import Image\n",
    "import numpy as np\n",
    "import pandas as pd\n",
    "import pickle\n",
    "import matplotlib.pyplot as plt\n",
    "%matplotlib inline\n",
    "\n",
    "def set_param(imgfile,sigma,sigma_r,kappa,blocks_per_line):\n",
    "    param_file = open('../parameters.txt',\"w\");\n",
    "    print('image',imgfilename,file = param_file);\n",
    "    print('sigma',sigma,file = param_file);\n",
    "    print('sigmar',sigma_r,file = param_file);\n",
    "    print('kappa',kappa,file = param_file);\n",
    "    print('blocks_per_line',blocks_per_line,file = param_file);\n",
    "    param_file.close();\n",
    "    return\n",
    "\n"
   ]
  },
  {
   "cell_type": "code",
   "execution_count": 2,
   "metadata": {},
   "outputs": [],
   "source": [
    "GPU_NAME = 'GTX_1050_Ti'"
   ]
  },
  {
   "cell_type": "markdown",
   "metadata": {},
   "source": [
    "# Plotting functions"
   ]
  },
  {
   "cell_type": "code",
   "execution_count": 5,
   "metadata": {},
   "outputs": [],
   "source": [
    "def generate_plot(input_filename):\n",
    "    # We load the data and generate the plot\n",
    "    data_dictionary = pickle.load(open(input_filename,'rb'))\n",
    "\n",
    "    exectimeA = data_dictionary[\"exectimeA\"]\n",
    "    exectimeC3 = data_dictionary[\"exectimeC3\"]\n",
    "    exectimeC6 = data_dictionary[\"exectimeC6\"]\n",
    "    L_values = data_dictionary[\"L_values\"]\n",
    "\n",
    "    print(\"Loaded execution time data from {}\".format(input_filename))\n",
    "\n",
    "    avgA = []\n",
    "    devA = []\n",
    "    avgC3 = []\n",
    "    devC3 = []\n",
    "    avgC6 = []\n",
    "    devC6 = []\n",
    "\n",
    "    for i in range(len(exectimeA)):\n",
    "        avgA.append(statistics.mean(exectimeA[i]))\n",
    "        devA.append(statistics.stdev(exectimeA[i]))\n",
    "        avgC3.append(statistics.mean(exectimeC3[i]))\n",
    "        devC3.append(statistics.stdev(exectimeC3[i]))\n",
    "        avgC6.append(statistics.mean(exectimeC6[i]))\n",
    "        devC6.append(statistics.stdev(exectimeC6[i]))\n",
    "\n",
    "    avgAframe = pd.DataFrame(list(zip(L_values,avgA)),columns = ['L','Algorithm A']);\n",
    "    avgC3frame = pd.DataFrame(list(zip(L_values,avgC3)),columns = ['L','Algorithm C (3 blocks)']);\n",
    "    avgC6frame = pd.DataFrame(list(zip(L_values,avgC6)),columns = ['L','Algorithm C (6 blocks)']);\n",
    "\n",
    "    ##PLOT with 99 certainty interval\n",
    "    ax = avgAframe.plot(x = avgAframe.columns.values[0], y = avgAframe.columns.values[1],style = '-.',marker = 'o', c ='b', ls='none');\n",
    "    ax.set_ylabel('time (milliseconds)')\n",
    "    avgC3frame.plot(ax=ax, x = avgC3frame.columns.values[0], y = avgC3frame.columns.values[1],style = '-.',marker = 'P', c = 'orange', ls='none')\n",
    "    avgC6frame.plot(ax=ax, x = avgC6frame.columns.values[0], y = avgC6frame.columns.values[1],style = '-.',marker = 'v', c = 'g', ls='none')\n",
    "\n",
    "    ax.xaxis.set_ticks(L_values)\n",
    "    plt.xticks(fontsize=6)\n",
    "    ax.errorbar(np.array(L_values), np.array(avgA), yerr=3*np.array(devA), ls='-',alpha = 0.5)\n",
    "    ax.errorbar(np.array(L_values), np.array(avgC3), yerr=3*np.array(devC3), ls='-',alpha = 0.5)\n",
    "    ax.errorbar(np.array(L_values), np.array(avgC6), yerr=3*np.array(devC6), ls='-',alpha = 0.5)\n",
    "\n",
    "    # return the plot axis\n",
    "    return ax"
   ]
  },
  {
   "cell_type": "markdown",
   "metadata": {},
   "source": [
    "# Execution time: sigma,sigma_r = (50,50)¶\n"
   ]
  },
  {
   "cell_type": "code",
   "execution_count": 6,
   "metadata": {},
   "outputs": [
    {
     "name": "stdout",
     "output_type": "stream",
     "text": [
      "Saved execution time data to ../measures/GTX_1050_Ti_exectime1_50_50.pkl\n"
     ]
    }
   ],
   "source": [
    "exectimeA = [];\n",
    "exectimeC3 = [];\n",
    "exectimeC6 = [];\n",
    "nsamples = 10;\n",
    "\n",
    "#Lrange = range(200,2000,100);\n",
    "#L_values = list(Lrange);\n",
    "L_values = [256*n for n in range(1,9)]\n",
    "\n",
    "for i in L_values:\n",
    "    #for each image\n",
    "    samples = [];\n",
    "    #run algorithm A\n",
    "    for j in range(1,6):\n",
    "        #SET PARAMETERS\n",
    "        imgfilename = \"temp.jpg\";\n",
    "        sigma = 50.00;\n",
    "        sigma_r = 50.00;\n",
    "        kappa = 2.00;\n",
    "        blocks_per_line = 3.00;\n",
    "        set_param(imgfilename,sigma,sigma_r,kappa,blocks_per_line);\n",
    "        image_o = Image.open('../largeimages/image' + str(j) + '.jpg');\n",
    "        tempimage = image_o.resize((i,i))\n",
    "        tempimage.save('../images/temp.jpg')\n",
    "\n",
    "        for k in range(nsamples):\n",
    "            subprocess.run(\"../Algorithm_A/main > output.log\",shell=True);\n",
    "            file = open('output.log')\n",
    "            #get exectime\n",
    "            for line in file:\n",
    "                fields = line.strip().split()\n",
    "                samples.append(float(fields[1]));\n",
    "            file.close()\n",
    "    ##\n",
    "    exectimeA.append(samples);\n",
    "    \n",
    "    samples = [];\n",
    "    #run algorithm C 3blocks\n",
    "    for j in range(1,6):\n",
    "        #SET PARAMETERS\n",
    "        imgfilename = \"temp.jpg\";\n",
    "        sigma = 50.00;\n",
    "        sigma_r = 50.00;\n",
    "        kappa = 2.00;\n",
    "        blocks_per_line = 3.00;\n",
    "        set_param(imgfilename,sigma,sigma_r,kappa,blocks_per_line);\n",
    "        image_o = Image.open('../largeimages/image' + str(j) + '.jpg');\n",
    "        tempimage = image_o.resize((i,i))\n",
    "        tempimage.save('../images/temp.jpg')\n",
    "\n",
    "        for k in range(nsamples):\n",
    "            subprocess.run(\"../Algorithm_C/main > output.log\",shell=True);\n",
    "            file = open('output.log')\n",
    "            #get exectime\n",
    "            for line in file:\n",
    "                fields = line.strip().split()\n",
    "                samples.append(float(fields[1]));\n",
    "            file.close()\n",
    "    ##\n",
    "    exectimeC3.append(samples);\n",
    "    \n",
    "    samples = [];\n",
    "    #run algorithm C 6blocks\n",
    "    for j in range(1,6):\n",
    "        #SET PARAMETERS\n",
    "        imgfilename = \"temp.jpg\";\n",
    "        sigma = 50.00;\n",
    "        sigma_r = 50.00;\n",
    "        kappa = 2.00;\n",
    "        blocks_per_line = 6.00;\n",
    "        set_param(imgfilename,sigma,sigma_r,kappa,blocks_per_line);\n",
    "        image_o = Image.open('../largeimages/image' + str(j) + '.jpg');\n",
    "        tempimage = image_o.resize((i,i))\n",
    "        tempimage.save('../images/temp.jpg')\n",
    "\n",
    "        for k in range(nsamples):\n",
    "            subprocess.run(\"../Algorithm_C/main > output.log\",shell=True);\n",
    "            file = open('output.log')\n",
    "            #get exectime\n",
    "            for line in file:\n",
    "                fields = line.strip().split()\n",
    "                samples.append(float(fields[1]));\n",
    "            file.close()\n",
    "    ##\n",
    "    exectimeC6.append(samples);\n",
    "    \n",
    "# Instead of computing the plot, we just save the data to a\n",
    "# binary file, which we open later for generating the plot.\n",
    "data_dictionary = {\n",
    "    \"exectimeA\": exectimeA,\n",
    "    \"exectimeC3\": exectimeC3,\n",
    "    \"exectimeC6\": exectimeC6,\n",
    "    \"L_values\": L_values\n",
    "}\n",
    "output_filename = \"../measures/{}_exectime1_50_50.pkl\".format(GPU_NAME)\n",
    "pickle.dump(data_dictionary, open(output_filename, 'wb'))\n",
    "print(\"Saved execution time data to {}\".format(output_filename))"
   ]
  },
  {
   "cell_type": "code",
   "execution_count": 8,
   "metadata": {},
   "outputs": [
    {
     "name": "stdout",
     "output_type": "stream",
     "text": [
      "Loaded execution time data from ../measures/GTX_1050_Ti_exectime1_50_50.pkl\n"
     ]
    },
    {
     "data": {
      "image/png": "[encoded data removed]",
      "text/plain": [
       "<Figure size 432x288 with 1 Axes>"
      ]
     },
     "metadata": {
      "needs_background": "light"
     },
     "output_type": "display_data"
    }
   ],
   "source": [
    "# We now load the data and generate the plot\n",
    "ax = generate_plot(\"../measures/GTX_1050_Ti_exectime1_50_50.pkl\")\n",
    "ax.figure.savefig('../measures/RTX_1050_Ti_exectime1_50_50.pdf')\n"
   ]
  },
  {
   "cell_type": "markdown",
   "metadata": {},
   "source": [
    "# Execution time: (200,150)\n"
   ]
  },
  {
   "cell_type": "code",
   "execution_count": 9,
   "metadata": {},
   "outputs": [
    {
     "name": "stdout",
     "output_type": "stream",
     "text": [
      "Saved execution time data to ../measures/GTX_1050_Ti_exectime1_200_150.pkl\n"
     ]
    }
   ],
   "source": [
    "exectimeA = [];\n",
    "exectimeC3 = [];\n",
    "exectimeC6 = [];\n",
    "nsamples = 10;\n",
    "\n",
    "#Lrange = range(200,2000,100);\n",
    "#L_values = list(Lrange);\n",
    "L_values = [256*n for n in range(1,9)]\n",
    "\n",
    "for i in L_values:\n",
    "    #for each image\n",
    "    samples = [];\n",
    "    #run algorithm A\n",
    "    for j in range(1,6):\n",
    "        #SET PARAMETERS\n",
    "        imgfilename = \"temp.jpg\";\n",
    "        sigma = 200.00;\n",
    "        sigma_r = 150.00;\n",
    "        kappa = 2.00;\n",
    "        blocks_per_line = 3.00;\n",
    "        set_param(imgfilename,sigma,sigma_r,kappa,blocks_per_line);\n",
    "        image_o = Image.open('../largeimages/image' + str(j) + '.jpg');\n",
    "        tempimage = image_o.resize((i,i))\n",
    "        tempimage.save('../images/temp.jpg')\n",
    "\n",
    "        for k in range(nsamples):\n",
    "            subprocess.run(\"../Algorithm_A/main > output.log\",shell=True);\n",
    "            file = open('output.log')\n",
    "            #get exectime\n",
    "            for line in file:\n",
    "                fields = line.strip().split()\n",
    "                samples.append(float(fields[1]));\n",
    "            file.close()\n",
    "    ##\n",
    "    exectimeA.append(samples);\n",
    "    \n",
    "    samples = [];\n",
    "    #run algorithm C 3blocks\n",
    "    for j in range(1,6):\n",
    "        #SET PARAMETERS\n",
    "        imgfilename = \"temp.jpg\";\n",
    "        sigma = 200.00;\n",
    "        sigma_r = 150.00;\n",
    "        kappa = 2.00;\n",
    "        blocks_per_line = 3.00;\n",
    "        set_param(imgfilename,sigma,sigma_r,kappa,blocks_per_line);\n",
    "        image_o = Image.open('../largeimages/image' + str(j) + '.jpg');\n",
    "        tempimage = image_o.resize((i,i))\n",
    "        tempimage.save('../images/temp.jpg')\n",
    "\n",
    "        for k in range(nsamples):\n",
    "            subprocess.run(\"../Algorithm_C/main > output.log\",shell=True);\n",
    "            file = open('output.log')\n",
    "            #get exectime\n",
    "            for line in file:\n",
    "                fields = line.strip().split()\n",
    "                samples.append(float(fields[1]));\n",
    "            file.close()\n",
    "    ##\n",
    "    exectimeC3.append(samples);\n",
    "    \n",
    "    samples = [];\n",
    "    #run algorithm C 6blocks\n",
    "    for j in range(1,6):\n",
    "        #SET PARAMETERS\n",
    "        imgfilename = \"temp.jpg\";\n",
    "        sigma = 200.00;\n",
    "        sigma_r = 15.00;\n",
    "        kappa = 2.00;\n",
    "        blocks_per_line = 6.00;\n",
    "        set_param(imgfilename,sigma,sigma_r,kappa,blocks_per_line);\n",
    "        image_o = Image.open('../largeimages/image' + str(j) + '.jpg');\n",
    "        tempimage = image_o.resize((i,i))\n",
    "        tempimage.save('../images/temp.jpg')\n",
    "\n",
    "        for k in range(nsamples):\n",
    "            subprocess.run(\"../Algorithm_C/main > output.log\",shell=True);\n",
    "            file = open('output.log')\n",
    "            #get exectime\n",
    "            for line in file:\n",
    "                fields = line.strip().split()\n",
    "                samples.append(float(fields[1]));\n",
    "            file.close()\n",
    "    ##\n",
    "    exectimeC6.append(samples);\n",
    "    \n",
    "# Instead of computing the plot, we just save the data to a\n",
    "# binary file, which we open later for generating the plot.\n",
    "data_dictionary = {\n",
    "    \"exectimeA\": exectimeA,\n",
    "    \"exectimeC3\": exectimeC3,\n",
    "    \"exectimeC6\": exectimeC6,\n",
    "    \"L_values\": L_values\n",
    "}\n",
    "output_filename = \"../measures/{}_exectime1_200_150.pkl\".format(GPU_NAME)\n",
    "pickle.dump(data_dictionary, open(output_filename, 'wb'))\n",
    "print(\"Saved execution time data to {}\".format(output_filename))"
   ]
  },
  {
   "cell_type": "code",
   "execution_count": 10,
   "metadata": {},
   "outputs": [
    {
     "name": "stdout",
     "output_type": "stream",
     "text": [
      "Loaded execution time data from ../measures/GTX_1050_Ti_exectime1_200_150.pkl\n"
     ]
    },
    {
     "data": {
      "image/png": "[encoded data removed]",
      "text/plain": [
       "<Figure size 432x288 with 1 Axes>"
      ]
     },
     "metadata": {
      "needs_background": "light"
     },
     "output_type": "display_data"
    }
   ],
   "source": [
    "# We now load the data and generate the plot\n",
    "ax = generate_plot(\"../measures/GTX_1050_Ti_exectime1_200_150.pkl\")\n",
    "ax.figure.savefig('../measures/GTX_1050_Ti_exectime1_200_150.pdf')\n",
    "\n"
   ]
  },
  {
   "cell_type": "code",
   "execution_count": null,
   "metadata": {},
   "outputs": [],
   "source": []
  }
 ],
 "metadata": {
  "kernelspec": {
   "display_name": "Python 3",
   "language": "python",
   "name": "python3"
  },
  "language_info": {
   "codemirror_mode": {
    "name": "ipython",
    "version": 3
   },
   "file_extension": ".py",
   "mimetype": "text/x-python",
   "name": "python",
   "nbconvert_exporter": "python",
   "pygments_lexer": "ipython3",
   "version": "3.6.9"
  }
 },
 "nbformat": 4,
 "nbformat_minor": 2
}
