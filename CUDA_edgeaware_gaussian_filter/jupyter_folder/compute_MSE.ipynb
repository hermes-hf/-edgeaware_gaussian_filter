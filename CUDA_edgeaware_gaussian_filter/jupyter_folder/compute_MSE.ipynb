{
 "cells": [
  {
   "cell_type": "code",
   "execution_count": 2,
   "metadata": {},
   "outputs": [],
   "source": [
    "import sys\n",
    "import os\n",
    "import subprocess\n",
    "import statistics\n",
    "from PIL import Image\n",
    "import numpy as np\n",
    "import pandas as pd\n",
    "import matplotlib.pyplot as plt\n",
    "%matplotlib inline\n",
    "\n",
    "def set_param(imgfile,sigma,sigma_r,kappa,blocks_per_line):\n",
    "    param_file = open('../parameters.txt',\"w\");\n",
    "    print('image',imgfilename,file = param_file);\n",
    "    print('sigma',sigma,file = param_file);\n",
    "    print('sigmar',sigma_r,file = param_file);\n",
    "    print('kappa',kappa,file = param_file);\n",
    "    print('blocks_per_line',blocks_per_line,file = param_file);\n",
    "    param_file.close();\n",
    "    return\n",
    "\n",
    "def concat_values5_compare(x,y,z,w,v):\n",
    "    cmd = \"../Kappa_compare_A_and_D/main \"+str(x)+\" \"+str(y)+\" \"+str(z)+\" \"+str(w)+\" \"+str(v);\n",
    "   \n",
    "    return cmd\n"
   ]
  },
  {
   "cell_type": "code",
   "execution_count": 3,
   "metadata": {},
   "outputs": [
    {
     "name": "stdout",
     "output_type": "stream",
     "text": [
      "Computation done\n"
     ]
    }
   ],
   "source": [
    "MSE1list = []; #lista 50,50\n",
    "MSE2list = []; # 200,100\n",
    "MSE3list = []; # 200,200\n",
    "\n",
    "for i in range(20):\n",
    "    imgfilename = \"kodak\" + str(i+1) + \".jpg\";\n",
    "    #SET KAPPA RANGE\n",
    "    kappa_begin = 0;\n",
    "    kappa_step = 0.5;\n",
    "    kappa_end =3;\n",
    "    set_param(imgfilename,0,0,0,0);\n",
    "\n",
    "    ##FIRST COMPUTATION\n",
    "    #SET PARAMETERS\n",
    "    sigma = 50;\n",
    "    sigma_r = 50;\n",
    "    #COMPUTE MSE\n",
    "    cmd = concat_values5_compare(kappa_begin,kappa_end,kappa_step,sigma,sigma_r);\n",
    "    subprocess.run(cmd,shell=True)\n",
    "    MSE1 = pd.read_csv('../Kappa_compare_A_and_D/MSE.tsv',sep ='\\t');\n",
    "    MSE1list.append(MSE1);\n",
    "\n",
    "    ##SECOND COMPUTATION\n",
    "    #SET PARAMETERS\n",
    "    sigma = 200;\n",
    "    sigma_r = 100;\n",
    "    #COMPUTE MSE\n",
    "    cmd = concat_values5_compare(kappa_begin,kappa_end,kappa_step,sigma,sigma_r);\n",
    "    subprocess.run(cmd,shell=True)\n",
    "    MSE2 = pd.read_csv('../Kappa_compare_A_and_D/MSE.tsv',sep ='\\t');\n",
    "    MSE2list.append(MSE2);\n",
    "    \n",
    "    ##THIRD COMPUTATION\n",
    "    #SET PARAMETERS\n",
    "    sigma = 200;\n",
    "    sigma_r = 200;\n",
    "    #COMPUTE MSE\n",
    "    cmd = concat_values5_compare(kappa_begin,kappa_end,kappa_step,sigma,sigma_r);\n",
    "    subprocess.run(cmd,shell=True)\n",
    "    MSE3 = pd.read_csv('../Kappa_compare_A_and_D/MSE.tsv',sep ='\\t');\n",
    "    MSE3list.append(MSE3);\n",
    "\n",
    "    ##PLOT\n",
    "    #ax = MSE1.plot(x = MSE1.columns.values[0], y = MSE1.columns.values[1],style = '-.',marker = 'o');\n",
    "    #ax.set_ylabel('MSE')\n",
    "    #MSE2.plot(ax=ax, x = MSE2.columns.values[0], y = MSE2.columns.values[1],style = '-.',marker = 'x')\n",
    "    #MSE3.plot(ax=ax, x = MSE3.columns.values[0], y = MSE3.columns.values[1],style = '-.',marker = 'v')\n",
    "\n",
    "    #save plot\n",
    "    #ax.figure.savefig('../measures/mseimg2.pdf')\n",
    "    \n",
    "print('Computation done')\n"
   ]
  },
  {
   "cell_type": "markdown",
   "metadata": {},
   "source": [
    "# Plot results"
   ]
  },
  {
   "cell_type": "code",
   "execution_count": 4,
   "metadata": {},
   "outputs": [
    {
     "data": {
      "image/png": "[encoded data removed]",
      "text/plain": [
       "<Figure size 432x288 with 1 Axes>"
      ]
     },
     "metadata": {
      "needs_background": "light"
     },
     "output_type": "display_data"
    }
   ],
   "source": [
    "\n",
    "#COMPUTE DEVIATION AND MEAN:\n",
    "imax = 2;\n",
    "##FIRST COMPUTATION\n",
    "dev1 = [];\n",
    "avg1 = [];\n",
    "\n",
    "kvalues = list(MSE1.iloc[:,0].values);\n",
    "for i in range(MSE1.shape[0]):\n",
    "    samples=[];\n",
    "    for j in range(imax):\n",
    "        samples.append(MSE1list[j].iloc[i,1]);\n",
    "    dev1.append(statistics.stdev(samples));\n",
    "    avg1.append(statistics.mean(samples));\n",
    "\n",
    "    ##SECOND COMPUTATION\n",
    "dev2 = [];\n",
    "avg2 = [];\n",
    "kvalues = list(MSE2.iloc[:,0].values);\n",
    "for i in range(MSE2.shape[0]):\n",
    "    samples=[];\n",
    "    for j in range(imax):\n",
    "        samples.append(MSE2list[j].iloc[i,1]);\n",
    "    dev2.append(statistics.stdev(samples));\n",
    "    avg2.append(statistics.mean(samples));\n",
    "    \n",
    "    ##THIRD COMPUTATION\n",
    "dev3 = [];\n",
    "avg3 = [];\n",
    "kvalues = list(MSE3.iloc[:,0].values);\n",
    "for i in range(MSE3.shape[0]):\n",
    "    samples=[];\n",
    "    for j in range(imax):\n",
    "        samples.append(MSE3list[j].iloc[i,1]);\n",
    "    dev3.append(statistics.stdev(samples));\n",
    "    avg3.append(statistics.mean(samples));\n",
    "\n",
    "\n",
    "data1 = list(zip(kvalues,avg1))\n",
    "frame1 = pd.DataFrame(data1,columns = ['k','MSE(50,50)']);\n",
    "data2 = list(zip(kvalues,avg2))\n",
    "frame2 = pd.DataFrame(data2,columns = ['k','MSE(200,100)']);\n",
    "data3 = list(zip(kvalues,avg3))\n",
    "frame3 = pd.DataFrame(data3,columns = ['k','MSE(200,200)']);\n",
    "\n",
    "##PLOT with 99 certainty interval\n",
    "ax = frame1.plot(x = frame1.columns.values[0], y = frame1.columns.values[1],style = '-.',marker = 'o', c ='b', ls='none');\n",
    "ax.set_ylabel('MSE')\n",
    "frame2.plot(ax=ax, x = frame2.columns.values[0], y = frame2.columns.values[1],style = '-.',marker = 'P', c = 'orange', ls='none')\n",
    "frame3.plot(ax=ax, x = frame3.columns.values[0], y = frame3.columns.values[1],style = '-.',marker = 'v', c = 'green', ls='none')\n",
    "\n",
    "ax.errorbar(np.array(kvalues), np.array(avg1), yerr=3*np.array(dev1), alpha = 0.5)\n",
    "ax.errorbar(np.array(kvalues), np.array(avg2), yerr=3*np.array(dev2), alpha = 0.5)\n",
    "ax.errorbar(np.array(kvalues), np.array(avg3), yerr=3*np.array(dev2), alpha = 0.5)\n",
    "\n",
    "#save plot\n",
    "ax.figure.savefig('../measures/msekodak95_cert.pdf')"
   ]
  },
  {
   "cell_type": "code",
   "execution_count": null,
   "metadata": {},
   "outputs": [],
   "source": []
  }
 ],
 "metadata": {
  "kernelspec": {
   "display_name": "Python 3",
   "language": "python",
   "name": "python3"
  },
  "language_info": {
   "codemirror_mode": {
    "name": "ipython",
    "version": 3
   },
   "file_extension": ".py",
   "mimetype": "text/x-python",
   "name": "python",
   "nbconvert_exporter": "python",
   "pygments_lexer": "ipython3",
   "version": "3.6.9"
  }
 },
 "nbformat": 4,
 "nbformat_minor": 2
}
